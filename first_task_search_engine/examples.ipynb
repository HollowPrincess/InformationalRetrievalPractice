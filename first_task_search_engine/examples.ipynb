{
 "cells": [
  {
   "cell_type": "code",
   "execution_count": 1,
   "metadata": {},
   "outputs": [],
   "source": [
    "from app import run_app as search"
   ]
  },
  {
   "cell_type": "code",
   "execution_count": 2,
   "metadata": {},
   "outputs": [
    {
     "name": "stdout",
     "output_type": "stream",
     "text": [
      "This is a boolean search model.\n",
      "For search you need to write a query in format:\n",
      "\n",
      "    first_word first_operator second_word         second_operator third_word etc...\n",
      "\n",
      "where operators can be: and, or, andnot, ornot\n",
      "Сase is not important.\n",
      "\n",
      "Please, write your query:\n",
      "ocaml\n",
      "\n",
      "Documents num: 19\n",
      "Top 1 documents: \n",
      "\n",
      "Document id:  106446\n",
      "Document rank:  7 \n",
      "\n",
      "ocaml is in:\n",
      "rst interpreter with Python - choice of OCaml language <p>I am reading code for S\n",
      "\n"
     ]
    }
   ],
   "source": [
    "#ocaml\n",
    "search()"
   ]
  },
  {
   "cell_type": "code",
   "execution_count": 3,
   "metadata": {},
   "outputs": [
    {
     "name": "stdout",
     "output_type": "stream",
     "text": [
      "This is a boolean search model.\n",
      "For search you need to write a query in format:\n",
      "\n",
      "    first_word first_operator second_word         second_operator third_word etc...\n",
      "\n",
      "where operators can be: and, or, andnot, ornot\n",
      "Сase is not important.\n",
      "\n",
      "Please, write your query:\n",
      "haskell\n",
      "\n",
      "Documents num: 116\n",
      "Top 1 documents: \n",
      "\n",
      "Document id:  61336\n",
      "Document rank:  8 \n",
      "\n",
      "haskell is in:\n",
      "Project Euler: C vs Python vs Erlang vs Haskell <p>I have taken <a href=\"http://p\n",
      "\n"
     ]
    }
   ],
   "source": [
    "#haskell\n",
    "search()"
   ]
  },
  {
   "cell_type": "code",
   "execution_count": 4,
   "metadata": {},
   "outputs": [
    {
     "name": "stdout",
     "output_type": "stream",
     "text": [
      "This is a boolean search model.\n",
      "For search you need to write a query in format:\n",
      "\n",
      "    first_word first_operator second_word         second_operator third_word etc...\n",
      "\n",
      "where operators can be: and, or, andnot, ornot\n",
      "Сase is not important.\n",
      "\n",
      "Please, write your query:\n",
      "ocaml and haskell\n",
      "\n",
      "Documents num: 4\n",
      "Top 1 documents: \n",
      "\n",
      "Document id:  990\n",
      "Document rank:  3 \n",
      "\n",
      "ocaml is in:\n",
      "What is the OCaml idiom equivalent to Python's range \n",
      "haskell is in:\n",
      "s in Python using range(1, n+1), and in Haskell using: take n (iterate (1+) 1). <\n",
      "\n"
     ]
    }
   ],
   "source": [
    "#ocaml and haskell\n",
    "search()"
   ]
  },
  {
   "cell_type": "code",
   "execution_count": 5,
   "metadata": {},
   "outputs": [
    {
     "name": "stdout",
     "output_type": "stream",
     "text": [
      "This is a boolean search model.\n",
      "For search you need to write a query in format:\n",
      "\n",
      "    first_word first_operator second_word         second_operator third_word etc...\n",
      "\n",
      "where operators can be: and, or, andnot, ornot\n",
      "Сase is not important.\n",
      "\n",
      "Please, write your query:\n",
      "ocaml or haskell\n",
      "\n",
      "Documents num: 131\n",
      "Top 1 documents: \n",
      "\n",
      "Document id:  61336\n",
      "Document rank:  8 \n",
      "\n",
      "This document don't contain  ocaml\n",
      "haskell is in:\n",
      "Project Euler: C vs Python vs Erlang vs Haskell <p>I have taken <a href=\"http://p\n",
      "\n"
     ]
    }
   ],
   "source": [
    "#ocaml or haskell\n",
    "search()"
   ]
  },
  {
   "cell_type": "code",
   "execution_count": 6,
   "metadata": {},
   "outputs": [],
   "source": [
    "# ocaml: 19\n",
    "# haskell: 116\n",
    "# intersect: 4\n",
    "# union: 131"
   ]
  },
  {
   "cell_type": "code",
   "execution_count": 7,
   "metadata": {},
   "outputs": [
    {
     "name": "stdout",
     "output_type": "stream",
     "text": [
      "This is a boolean search model.\n",
      "For search you need to write a query in format:\n",
      "\n",
      "    first_word first_operator second_word         second_operator third_word etc...\n",
      "\n",
      "where operators can be: and, or, andnot, ornot\n",
      "Сase is not important.\n",
      "\n",
      "Please, write your query:\n",
      "ocaml andnot haskell\n",
      "\n",
      "Documents num: 15\n",
      "Top 1 documents: \n",
      "\n",
      "Document id:  106446\n",
      "Document rank:  7 \n",
      "\n",
      "ocaml is in:\n",
      "rst interpreter with Python - choice of OCaml language <p>I am reading code for S\n",
      "This document don't contain  haskell\n",
      "\n"
     ]
    }
   ],
   "source": [
    "#ocaml andnot haskell\n",
    "search()"
   ]
  },
  {
   "cell_type": "code",
   "execution_count": 8,
   "metadata": {},
   "outputs": [
    {
     "name": "stdout",
     "output_type": "stream",
     "text": [
      "This is a boolean search model.\n",
      "For search you need to write a query in format:\n",
      "\n",
      "    first_word first_operator second_word         second_operator third_word etc...\n",
      "\n",
      "where operators can be: and, or, andnot, ornot\n",
      "Сase is not important.\n",
      "\n",
      "Please, write your query:\n",
      "ocaml ornot haskell\n",
      "\n",
      "Documents num: 188635\n",
      "Top 1 documents: \n",
      "\n",
      "Document id:  106446\n",
      "Document rank:  7 \n",
      "\n",
      "ocaml is in:\n",
      "rst interpreter with Python - choice of OCaml language <p>I am reading code for S\n",
      "This document don't contain  haskell\n",
      "\n"
     ]
    }
   ],
   "source": [
    "#ocaml ornot haskell\n",
    "#total docs num in collection is 188747\n",
    "search()"
   ]
  },
  {
   "cell_type": "code",
   "execution_count": null,
   "metadata": {},
   "outputs": [],
   "source": []
  }
 ],
 "metadata": {
  "kernelspec": {
   "display_name": "Python 3",
   "language": "python",
   "name": "python3"
  },
  "language_info": {
   "codemirror_mode": {
    "name": "ipython",
    "version": 3
   },
   "file_extension": ".py",
   "mimetype": "text/x-python",
   "name": "python",
   "nbconvert_exporter": "python",
   "pygments_lexer": "ipython3",
   "version": "3.7.3"
  }
 },
 "nbformat": 4,
 "nbformat_minor": 2
}
