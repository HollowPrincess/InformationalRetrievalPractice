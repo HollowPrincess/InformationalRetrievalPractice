{
 "cells": [
  {
   "cell_type": "code",
   "execution_count": 1,
   "metadata": {},
   "outputs": [],
   "source": [
    "import pandas as pd\n",
    "import math\n",
    "import sys\n",
    "import ndjson\n",
    "from text_preparation import tokenize, lemmatize\n",
    "from collections import defaultdict\n",
    "from collections import Counter\n",
    "\n",
    "df = pd.read_csv(\"./data/prepared_dataset.csv\", index_col = 0)\n",
    "df = df.iloc[:3]\n",
    "df = tokenize(df)\n",
    "df = lemmatize(df)\n"
   ]
  },
  {
   "cell_type": "code",
   "execution_count": 3,
   "metadata": {},
   "outputs": [],
   "source": [
    "const_size_in_bytes = 1024*1024*100 # type:int"
   ]
  },
  {
   "cell_type": "code",
   "execution_count": 43,
   "metadata": {},
   "outputs": [],
   "source": [
    "def write_dict_to_file(file_number:int, dict_for_index:defaultdict(list)):    \n",
    "    for key in dict_for_index.keys():\n",
    "        term_freqs = (Counter(dict_for_index[key]))\n",
    "        dict_for_index[key] = term_freqs\n",
    "    dict_for_index = sorted(dict_for_index.items())\n",
    "    with open('data/index_blocks/index_file{}.txt'.format(str(file_number)), 'w') as f:\n",
    "        ndjson.dump(dict_for_index,f)\n",
    "        file_number+=1\n",
    "    return file_number  "
   ]
  },
  {
   "cell_type": "code",
   "execution_count": 5,
   "metadata": {},
   "outputs": [],
   "source": [
    "def SPIMI_invert(block:pd.DataFrame(columns = ['Text']), file_number:int):\n",
    "    dict_for_index = defaultdict(list)\n",
    "    for docID, terms_list in block.iterrows():\n",
    "        for term in terms_list.values[0]:\n",
    "            if (sys.getsizeof(dict_for_index) <  const_size_in_bytes): #1024*1024*5): #while size of dict is less than 5Mb\n",
    "                dict_for_index[term].append(docID)\n",
    "            else:\n",
    "                file_number = write_dict_to_file(file_number, dict_for_index)\n",
    "                dict_for_index = defaultdict(list)\n",
    "    file_number = write_dict_to_file(file_number, dict_for_index)\n",
    "    return file_number"
   ]
  },
  {
   "cell_type": "code",
   "execution_count": 44,
   "metadata": {},
   "outputs": [],
   "source": [
    "block_size = 2 # type:int\n",
    "file_number = 1 # type:int\n",
    "\n",
    "for block_num in range(math.ceil(df.shape[0]/block_size)):\n",
    "    block = df.iloc[block_num*block_size:(block_num+1)*block_size]\n",
    "    file_number = SPIMI_invert(block, file_number)"
   ]
  },
  {
   "cell_type": "code",
   "execution_count": null,
   "metadata": {},
   "outputs": [],
   "source": [
    "#сделать очередь с приоритетом\n",
    "#берем min term\n",
    "#для этого терма делаем слияние (не забыть про частоты термов)\n",
    "#записываем его на диск и удаляем из памяти\n",
    "#читаем новые строки (по числу свободной памяти? или из этих файлов из которых слияние?\n",
    "#может быть сделать генератор чтения из файлов и не забыть про EOF (генератор работает пока не дойдет до этого моменты)"
   ]
  },
  {
   "cell_type": "code",
   "execution_count": 61,
   "metadata": {},
   "outputs": [
    {
     "name": "stdout",
     "output_type": "stream",
     "text": [
      "<class 'dict'>\n",
      "defaultdict(<class 'list'>, {'a': [{'0': 6, '1': 5}]})\n",
      "------------------\n",
      "<class 'dict'>\n",
      "defaultdict(<class 'list'>, {'a': [{'0': 6, '1': 5}, {'2': 10}]})\n",
      "------------------\n"
     ]
    }
   ],
   "source": [
    "files = [open('data/index_blocks/index_file{}.txt'.format(str(i)), 'r') for i in range(1,file_number)]\n",
    "readed_dict = defaultdict(list)\n",
    "updating = True\n",
    "try:\n",
    "    while updating:\n",
    "        for file in files:  \n",
    "            k,v = ndjson.loads(file.readline())[0]\n",
    "            print(type(v))\n",
    "            readed_dict[k].append(v)\n",
    "            print(readed_dict)\n",
    "            print(\"------------------\")\n",
    "finally:\n",
    "    for fh in files:\n",
    "        fh.close()"
   ]
  },
  {
   "cell_type": "code",
   "execution_count": null,
   "metadata": {},
   "outputs": [],
   "source": []
  }
 ],
 "metadata": {
  "kernelspec": {
   "display_name": "Python 3",
   "language": "python",
   "name": "python3"
  },
  "language_info": {
   "codemirror_mode": {
    "name": "ipython",
    "version": 3
   },
   "file_extension": ".py",
   "mimetype": "text/x-python",
   "name": "python",
   "nbconvert_exporter": "python",
   "pygments_lexer": "ipython3",
   "version": "3.7.3"
  }
 },
 "nbformat": 4,
 "nbformat_minor": 2
}
